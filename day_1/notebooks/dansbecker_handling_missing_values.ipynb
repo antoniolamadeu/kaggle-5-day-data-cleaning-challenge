{
 "cells": [
  {
   "cell_type": "markdown",
   "metadata": {
    "ExecuteTime": {
     "end_time": "2018-04-01T13:04:32.895553Z",
     "start_time": "2018-04-01T13:04:32.889375Z"
    }
   },
   "source": [
    "# Basic problem setup"
   ]
  },
  {
   "cell_type": "code",
   "execution_count": 6,
   "metadata": {
    "ExecuteTime": {
     "end_time": "2018-04-01T13:10:29.476193Z",
     "start_time": "2018-04-01T13:10:29.035010Z"
    }
   },
   "outputs": [],
   "source": [
    "import pandas as pd\n",
    "\n",
    "# Load data\n",
    "melb_data = pd.read_csv(\"../input/melb_data/melb_data.csv\")\n",
    "\n",
    "from sklearn.ensemble import RandomForestRegressor\n",
    "from sklearn.metrics import mean_absolute_error\n",
    "from sklearn.model_selection import train_test_split\n",
    "\n",
    "melb_target = melb_data.Price\n",
    "melb_predictors = melb_data.drop(['Price'], axis=1)\n",
    "\n",
    "# For the sake of keeping the example simple, we'll only use the numeric predictors\n",
    "melb_numeric_predictors = melb_predictors.select_dtypes(exclude=['object'])"
   ]
  },
  {
   "cell_type": "code",
   "execution_count": 7,
   "metadata": {
    "ExecuteTime": {
     "end_time": "2018-04-01T13:11:38.409351Z",
     "start_time": "2018-04-01T13:11:38.391142Z"
    }
   },
   "outputs": [
    {
     "data": {
      "text/plain": [
       "(18396, 13)"
      ]
     },
     "execution_count": 7,
     "metadata": {},
     "output_type": "execute_result"
    }
   ],
   "source": [
    "melb_numeric_predictors.shape"
   ]
  },
  {
   "cell_type": "code",
   "execution_count": 33,
   "metadata": {
    "ExecuteTime": {
     "end_time": "2018-04-01T13:27:32.190189Z",
     "start_time": "2018-04-01T13:27:32.154123Z"
    }
   },
   "outputs": [
    {
     "data": {
      "text/html": [
       "<div>\n",
       "<style scoped>\n",
       "    .dataframe tbody tr th:only-of-type {\n",
       "        vertical-align: middle;\n",
       "    }\n",
       "\n",
       "    .dataframe tbody tr th {\n",
       "        vertical-align: top;\n",
       "    }\n",
       "\n",
       "    .dataframe thead th {\n",
       "        text-align: right;\n",
       "    }\n",
       "</style>\n",
       "<table border=\"1\" class=\"dataframe\">\n",
       "  <thead>\n",
       "    <tr style=\"text-align: right;\">\n",
       "      <th></th>\n",
       "      <th>Unnamed: 0</th>\n",
       "      <th>Rooms</th>\n",
       "      <th>Distance</th>\n",
       "      <th>Postcode</th>\n",
       "      <th>Bedroom2</th>\n",
       "      <th>Bathroom</th>\n",
       "      <th>Car</th>\n",
       "      <th>Landsize</th>\n",
       "      <th>BuildingArea</th>\n",
       "      <th>YearBuilt</th>\n",
       "      <th>Lattitude</th>\n",
       "      <th>Longtitude</th>\n",
       "      <th>Propertycount</th>\n",
       "    </tr>\n",
       "  </thead>\n",
       "  <tbody>\n",
       "    <tr>\n",
       "      <th>4106</th>\n",
       "      <td>5342</td>\n",
       "      <td>2</td>\n",
       "      <td>4.6</td>\n",
       "      <td>3122.0</td>\n",
       "      <td>2.0</td>\n",
       "      <td>1.0</td>\n",
       "      <td>1.0</td>\n",
       "      <td>NaN</td>\n",
       "      <td>NaN</td>\n",
       "      <td>NaN</td>\n",
       "      <td>-37.82600</td>\n",
       "      <td>145.03490</td>\n",
       "      <td>11308.0</td>\n",
       "    </tr>\n",
       "    <tr>\n",
       "      <th>14629</th>\n",
       "      <td>18763</td>\n",
       "      <td>2</td>\n",
       "      <td>4.3</td>\n",
       "      <td>3032.0</td>\n",
       "      <td>2.0</td>\n",
       "      <td>1.0</td>\n",
       "      <td>1.0</td>\n",
       "      <td>16000.0</td>\n",
       "      <td>68.5</td>\n",
       "      <td>2012.0</td>\n",
       "      <td>-37.78466</td>\n",
       "      <td>144.93829</td>\n",
       "      <td>1052.0</td>\n",
       "    </tr>\n",
       "    <tr>\n",
       "      <th>15160</th>\n",
       "      <td>19441</td>\n",
       "      <td>3</td>\n",
       "      <td>19.6</td>\n",
       "      <td>3076.0</td>\n",
       "      <td>3.0</td>\n",
       "      <td>2.0</td>\n",
       "      <td>2.0</td>\n",
       "      <td>321.0</td>\n",
       "      <td>130.0</td>\n",
       "      <td>2011.0</td>\n",
       "      <td>-37.63169</td>\n",
       "      <td>145.03135</td>\n",
       "      <td>10926.0</td>\n",
       "    </tr>\n",
       "    <tr>\n",
       "      <th>5478</th>\n",
       "      <td>7138</td>\n",
       "      <td>3</td>\n",
       "      <td>11.2</td>\n",
       "      <td>3042.0</td>\n",
       "      <td>3.0</td>\n",
       "      <td>2.0</td>\n",
       "      <td>2.0</td>\n",
       "      <td>274.0</td>\n",
       "      <td>NaN</td>\n",
       "      <td>NaN</td>\n",
       "      <td>-37.73530</td>\n",
       "      <td>144.89070</td>\n",
       "      <td>2291.0</td>\n",
       "    </tr>\n",
       "    <tr>\n",
       "      <th>988</th>\n",
       "      <td>1280</td>\n",
       "      <td>3</td>\n",
       "      <td>13.0</td>\n",
       "      <td>3204.0</td>\n",
       "      <td>3.0</td>\n",
       "      <td>1.0</td>\n",
       "      <td>2.0</td>\n",
       "      <td>382.0</td>\n",
       "      <td>NaN</td>\n",
       "      <td>NaN</td>\n",
       "      <td>-37.91870</td>\n",
       "      <td>145.04610</td>\n",
       "      <td>6795.0</td>\n",
       "    </tr>\n",
       "    <tr>\n",
       "      <th>13189</th>\n",
       "      <td>16975</td>\n",
       "      <td>3</td>\n",
       "      <td>11.2</td>\n",
       "      <td>3046.0</td>\n",
       "      <td>NaN</td>\n",
       "      <td>NaN</td>\n",
       "      <td>NaN</td>\n",
       "      <td>NaN</td>\n",
       "      <td>NaN</td>\n",
       "      <td>NaN</td>\n",
       "      <td>NaN</td>\n",
       "      <td>NaN</td>\n",
       "      <td>8870.0</td>\n",
       "    </tr>\n",
       "  </tbody>\n",
       "</table>\n",
       "</div>"
      ],
      "text/plain": [
       "       Unnamed: 0  Rooms  Distance  Postcode  Bedroom2  Bathroom  Car  \\\n",
       "4106         5342      2       4.6    3122.0       2.0       1.0  1.0   \n",
       "14629       18763      2       4.3    3032.0       2.0       1.0  1.0   \n",
       "15160       19441      3      19.6    3076.0       3.0       2.0  2.0   \n",
       "5478         7138      3      11.2    3042.0       3.0       2.0  2.0   \n",
       "988          1280      3      13.0    3204.0       3.0       1.0  2.0   \n",
       "13189       16975      3      11.2    3046.0       NaN       NaN  NaN   \n",
       "\n",
       "       Landsize  BuildingArea  YearBuilt  Lattitude  Longtitude  Propertycount  \n",
       "4106        NaN           NaN        NaN  -37.82600   145.03490        11308.0  \n",
       "14629   16000.0          68.5     2012.0  -37.78466   144.93829         1052.0  \n",
       "15160     321.0         130.0     2011.0  -37.63169   145.03135        10926.0  \n",
       "5478      274.0           NaN        NaN  -37.73530   144.89070         2291.0  \n",
       "988       382.0           NaN        NaN  -37.91870   145.04610         6795.0  \n",
       "13189       NaN           NaN        NaN        NaN         NaN         8870.0  "
      ]
     },
     "execution_count": 33,
     "metadata": {},
     "output_type": "execute_result"
    }
   ],
   "source": [
    "melb_numeric_predictors.sample(6)"
   ]
  },
  {
   "cell_type": "code",
   "execution_count": 22,
   "metadata": {
    "ExecuteTime": {
     "end_time": "2018-04-01T13:23:06.551533Z",
     "start_time": "2018-04-01T13:23:06.534375Z"
    }
   },
   "outputs": [
    {
     "data": {
      "text/plain": [
       "Unnamed: 0           0\n",
       "Rooms                0\n",
       "Distance             1\n",
       "Postcode             1\n",
       "Bedroom2          3469\n",
       "Bathroom          3471\n",
       "Car               3576\n",
       "Landsize          4793\n",
       "BuildingArea     10634\n",
       "YearBuilt         9438\n",
       "Lattitude         3332\n",
       "Longtitude        3332\n",
       "Propertycount        1\n",
       "dtype: int64"
      ]
     },
     "execution_count": 22,
     "metadata": {},
     "output_type": "execute_result"
    }
   ],
   "source": [
    "melb_numeric_predictors.isnull().sum()"
   ]
  },
  {
   "cell_type": "code",
   "execution_count": 35,
   "metadata": {
    "ExecuteTime": {
     "end_time": "2018-04-01T13:28:55.757136Z",
     "start_time": "2018-04-01T13:28:55.741436Z"
    }
   },
   "outputs": [
    {
     "data": {
      "text/plain": [
       "Unnamed: 0       False\n",
       "Rooms            False\n",
       "Distance          True\n",
       "Postcode          True\n",
       "Bedroom2          True\n",
       "Bathroom          True\n",
       "Car               True\n",
       "Landsize          True\n",
       "BuildingArea      True\n",
       "YearBuilt         True\n",
       "Lattitude         True\n",
       "Longtitude        True\n",
       "Propertycount     True\n",
       "dtype: bool"
      ]
     },
     "execution_count": 35,
     "metadata": {},
     "output_type": "execute_result"
    }
   ],
   "source": [
    "melb_numeric_predictors.isnull().any()"
   ]
  },
  {
   "cell_type": "markdown",
   "metadata": {},
   "source": [
    "# Create function to Measure Quality of an Approach"
   ]
  },
  {
   "cell_type": "code",
   "execution_count": 9,
   "metadata": {
    "ExecuteTime": {
     "end_time": "2018-04-01T13:16:48.578205Z",
     "start_time": "2018-04-01T13:16:48.495153Z"
    }
   },
   "outputs": [],
   "source": [
    "X_train, X_test, y_train, y_test = train_test_split(melb_numeric_predictors,\n",
    "                                                    melb_target, train_size = 0.7, test_size=0.3, random_state=0)\n",
    "\n",
    "def score_dataset(X_train, X_test, y_train, y_test):\n",
    "    model = RandomForestRegressor()\n",
    "    model.fit(X_train, y_train)\n",
    "    preds = model.predict(X_test)\n",
    "    return mean_absolute_error(y_test, preds)"
   ]
  },
  {
   "cell_type": "markdown",
   "metadata": {},
   "source": [
    "# Get Model Score from Dropping Columns with Missing values"
   ]
  },
  {
   "cell_type": "code",
   "execution_count": 37,
   "metadata": {
    "ExecuteTime": {
     "end_time": "2018-04-01T13:32:09.175431Z",
     "start_time": "2018-04-01T13:32:08.928250Z"
    }
   },
   "outputs": [
    {
     "name": "stdout",
     "output_type": "stream",
     "text": [
      "Mean absolute error from dropping columns with Missing values: \n",
      "347681.370538141\n"
     ]
    }
   ],
   "source": [
    "cols_with_missing_values = [col for col in X_train.columns if X_train[col].isnull().any()]\n",
    "\n",
    "reduced_X_train = X_train.drop(cols_with_missing_values, axis=1)\n",
    "reduced_X_test = X_test.drop(cols_with_missing_values, axis=1)\n",
    "print \"Mean absolute error from dropping columns with Missing values: \"\n",
    "print score_dataset(reduced_X_train, reduced_X_test, y_train, y_test)"
   ]
  },
  {
   "cell_type": "markdown",
   "metadata": {},
   "source": [
    "# Get Model Score from imputation"
   ]
  },
  {
   "cell_type": "code",
   "execution_count": 39,
   "metadata": {
    "ExecuteTime": {
     "end_time": "2018-04-01T13:37:02.003099Z",
     "start_time": "2018-04-01T13:37:01.152795Z"
    }
   },
   "outputs": [
    {
     "name": "stdout",
     "output_type": "stream",
     "text": [
      "Mean absolute error from Imputation: \n",
      "200830.7151114332\n"
     ]
    }
   ],
   "source": [
    "from sklearn.preprocessing import Imputer\n",
    "\n",
    "my_imputer = Imputer()\n",
    "imputed_X_train = my_imputer.fit_transform(X_train)\n",
    "imputed_X_test = my_imputer.transform(X_test)\n",
    "print(\"Mean absolute error from Imputation: \")\n",
    "print score_dataset(imputed_X_train, imputed_X_test, y_train, y_test)"
   ]
  },
  {
   "cell_type": "markdown",
   "metadata": {},
   "source": [
    "# Get Score from imputation with extra column showing what was Imputed"
   ]
  },
  {
   "cell_type": "code",
   "execution_count": 41,
   "metadata": {
    "ExecuteTime": {
     "end_time": "2018-04-01T13:46:54.899419Z",
     "start_time": "2018-04-01T13:46:53.905133Z"
    }
   },
   "outputs": [
    {
     "name": "stdout",
     "output_type": "stream",
     "text": [
      "Mean absolute error from Imputation while Track what was Imputed: \n",
      "200779.04587787643\n"
     ]
    }
   ],
   "source": [
    "imputed_X_train_plus = X_train.copy()\n",
    "imputed_X_test_plus = X_test.copy()\n",
    "\n",
    "cols_with_missing_values = [col for col in X_train if X_train[col].isnull().any()]\n",
    "\n",
    "for col in cols_with_missing_values:\n",
    "    imputed_X_train_plus[col + '_was_missing'] = imputed_X_train_plus[col].isnull()\n",
    "    imputed_X_test_plus[col + '_was_missing'] = imputed_X_test_plus[col].isnull()\n",
    "    \n",
    "my_imputer = Imputer()\n",
    "imputed_X_train_plus = my_imputer.fit_transform(imputed_X_train_plus)\n",
    "imputed_X_test_plus = my_imputer.transform(imputed_X_test_plus)\n",
    "print \"Mean absolute error from Imputation while Track what was Imputed: \"\n",
    "print score_dataset(imputed_X_train_plus, imputed_X_test_plus, y_train, y_test)"
   ]
  }
 ],
 "metadata": {
  "kernelspec": {
   "display_name": "Python 3",
   "language": "python",
   "name": "python3"
  },
  "language_info": {
   "codemirror_mode": {
    "name": "ipython",
    "version": 3
   },
   "file_extension": ".py",
   "mimetype": "text/x-python",
   "name": "python",
   "nbconvert_exporter": "python",
   "pygments_lexer": "ipython3",
   "version": "3.6.4"
  }
 },
 "nbformat": 4,
 "nbformat_minor": 2
}
